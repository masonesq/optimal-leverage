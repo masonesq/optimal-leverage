{
 "cells": [
  {
   "cell_type": "code",
   "execution_count": 1,
   "metadata": {},
   "outputs": [
    {
     "data": {
      "text/html": [
       "<div>\n",
       "<style scoped>\n",
       "    .dataframe tbody tr th:only-of-type {\n",
       "        vertical-align: middle;\n",
       "    }\n",
       "\n",
       "    .dataframe tbody tr th {\n",
       "        vertical-align: top;\n",
       "    }\n",
       "\n",
       "    .dataframe thead th {\n",
       "        text-align: right;\n",
       "    }\n",
       "</style>\n",
       "<table border=\"1\" class=\"dataframe\">\n",
       "  <thead>\n",
       "    <tr style=\"text-align: right;\">\n",
       "      <th></th>\n",
       "      <th>date</th>\n",
       "      <th>close</th>\n",
       "      <th>pct_change_SPX</th>\n",
       "      <th>compound_SPX</th>\n",
       "      <th>pct_change_UPRO</th>\n",
       "      <th>compound_UPRO</th>\n",
       "    </tr>\n",
       "  </thead>\n",
       "  <tbody>\n",
       "    <tr>\n",
       "      <th>0</th>\n",
       "      <td>1957-03-04</td>\n",
       "      <td>44.060001</td>\n",
       "      <td>NaN</td>\n",
       "      <td>NaN</td>\n",
       "      <td>NaN</td>\n",
       "      <td>NaN</td>\n",
       "    </tr>\n",
       "    <tr>\n",
       "      <th>1</th>\n",
       "      <td>1957-03-05</td>\n",
       "      <td>44.220001</td>\n",
       "      <td>0.003631</td>\n",
       "      <td>1.003631</td>\n",
       "      <td>0.010899</td>\n",
       "      <td>1.010899</td>\n",
       "    </tr>\n",
       "    <tr>\n",
       "      <th>2</th>\n",
       "      <td>1957-03-06</td>\n",
       "      <td>44.230000</td>\n",
       "      <td>0.000226</td>\n",
       "      <td>1.003858</td>\n",
       "      <td>0.000814</td>\n",
       "      <td>1.011721</td>\n",
       "    </tr>\n",
       "    <tr>\n",
       "      <th>3</th>\n",
       "      <td>1957-03-07</td>\n",
       "      <td>44.209999</td>\n",
       "      <td>-0.000452</td>\n",
       "      <td>1.003404</td>\n",
       "      <td>-0.001195</td>\n",
       "      <td>1.010512</td>\n",
       "    </tr>\n",
       "    <tr>\n",
       "      <th>4</th>\n",
       "      <td>1957-03-08</td>\n",
       "      <td>44.070000</td>\n",
       "      <td>-0.003167</td>\n",
       "      <td>1.000227</td>\n",
       "      <td>-0.009235</td>\n",
       "      <td>1.001180</td>\n",
       "    </tr>\n",
       "  </tbody>\n",
       "</table>\n",
       "</div>"
      ],
      "text/plain": [
       "         date      close  pct_change_SPX  compound_SPX  pct_change_UPRO  \\\n",
       "0  1957-03-04  44.060001             NaN           NaN              NaN   \n",
       "1  1957-03-05  44.220001        0.003631      1.003631         0.010899   \n",
       "2  1957-03-06  44.230000        0.000226      1.003858         0.000814   \n",
       "3  1957-03-07  44.209999       -0.000452      1.003404        -0.001195   \n",
       "4  1957-03-08  44.070000       -0.003167      1.000227        -0.009235   \n",
       "\n",
       "   compound_UPRO  \n",
       "0            NaN  \n",
       "1       1.010899  \n",
       "2       1.011721  \n",
       "3       1.010512  \n",
       "4       1.001180  "
      ]
     },
     "execution_count": 1,
     "metadata": {},
     "output_type": "execute_result"
    }
   ],
   "source": [
    "import pandas as pd\n",
    "import numpy as np\n",
    "import matplotlib.pyplot as plt\n",
    "\n",
    "coefficient = 2.961636082259724\n",
    "intercept = 0.00014390300083251257\n",
    "\n",
    "df = pd.read_csv(\"/home/matt/Downloads/^GSPC (1).csv\")\n",
    "df.drop(['Open', 'High', 'Low', 'Adj Close', 'Volume'], axis=1, inplace=True)\n",
    "df.rename(columns={'Date':'date', 'Close':'close'}, inplace=True)\n",
    "df['pct_change_SPX'] = df['close'].pct_change()\n",
    "df['compound_SPX'] = (1 + df['pct_change_SPX']).cumprod()\n",
    "df['pct_change_UPRO'] = coefficient * df['pct_change_SPX'] + intercept\n",
    "df['compound_UPRO'] = (1 + df['pct_change_UPRO']).cumprod()\n",
    "df.head()"
   ]
  },
  {
   "cell_type": "code",
   "execution_count": 2,
   "metadata": {},
   "outputs": [
    {
     "data": {
      "text/html": [
       "<div>\n",
       "<style scoped>\n",
       "    .dataframe tbody tr th:only-of-type {\n",
       "        vertical-align: middle;\n",
       "    }\n",
       "\n",
       "    .dataframe tbody tr th {\n",
       "        vertical-align: top;\n",
       "    }\n",
       "\n",
       "    .dataframe thead th {\n",
       "        text-align: right;\n",
       "    }\n",
       "</style>\n",
       "<table border=\"1\" class=\"dataframe\">\n",
       "  <thead>\n",
       "    <tr style=\"text-align: right;\">\n",
       "      <th></th>\n",
       "      <th>date</th>\n",
       "      <th>close</th>\n",
       "      <th>pct_change_SPX</th>\n",
       "      <th>compound_SPX</th>\n",
       "      <th>pct_change_UPRO</th>\n",
       "      <th>compound_UPRO</th>\n",
       "    </tr>\n",
       "  </thead>\n",
       "  <tbody>\n",
       "    <tr>\n",
       "      <th>15559</th>\n",
       "      <td>2018-12-21</td>\n",
       "      <td>2416.620117</td>\n",
       "      <td>-0.020588</td>\n",
       "      <td>54.848390</td>\n",
       "      <td>-0.060831</td>\n",
       "      <td>14201.702869</td>\n",
       "    </tr>\n",
       "    <tr>\n",
       "      <th>15560</th>\n",
       "      <td>2018-12-24</td>\n",
       "      <td>2351.100098</td>\n",
       "      <td>-0.027112</td>\n",
       "      <td>53.361326</td>\n",
       "      <td>-0.080153</td>\n",
       "      <td>13063.397650</td>\n",
       "    </tr>\n",
       "    <tr>\n",
       "      <th>15561</th>\n",
       "      <td>2018-12-26</td>\n",
       "      <td>2467.699951</td>\n",
       "      <td>0.049594</td>\n",
       "      <td>56.007714</td>\n",
       "      <td>0.147023</td>\n",
       "      <td>14984.011298</td>\n",
       "    </tr>\n",
       "    <tr>\n",
       "      <th>15562</th>\n",
       "      <td>2018-12-27</td>\n",
       "      <td>2488.830078</td>\n",
       "      <td>0.008563</td>\n",
       "      <td>56.487291</td>\n",
       "      <td>0.025503</td>\n",
       "      <td>15366.155242</td>\n",
       "    </tr>\n",
       "    <tr>\n",
       "      <th>15563</th>\n",
       "      <td>2018-12-28</td>\n",
       "      <td>2485.739990</td>\n",
       "      <td>-0.001242</td>\n",
       "      <td>56.417157</td>\n",
       "      <td>-0.003533</td>\n",
       "      <td>15311.863348</td>\n",
       "    </tr>\n",
       "  </tbody>\n",
       "</table>\n",
       "</div>"
      ],
      "text/plain": [
       "             date        close  pct_change_SPX  compound_SPX  pct_change_UPRO  \\\n",
       "15559  2018-12-21  2416.620117       -0.020588     54.848390        -0.060831   \n",
       "15560  2018-12-24  2351.100098       -0.027112     53.361326        -0.080153   \n",
       "15561  2018-12-26  2467.699951        0.049594     56.007714         0.147023   \n",
       "15562  2018-12-27  2488.830078        0.008563     56.487291         0.025503   \n",
       "15563  2018-12-28  2485.739990       -0.001242     56.417157        -0.003533   \n",
       "\n",
       "       compound_UPRO  \n",
       "15559   14201.702869  \n",
       "15560   13063.397650  \n",
       "15561   14984.011298  \n",
       "15562   15366.155242  \n",
       "15563   15311.863348  "
      ]
     },
     "execution_count": 2,
     "metadata": {},
     "output_type": "execute_result"
    }
   ],
   "source": [
    "df.tail()"
   ]
  },
  {
   "cell_type": "code",
   "execution_count": 3,
   "metadata": {},
   "outputs": [
    {
     "data": {
      "text/plain": [
       "314    1958-05-29\n",
       "Name: date, dtype: object"
      ]
     },
     "execution_count": 3,
     "metadata": {},
     "output_type": "execute_result"
    }
   ],
   "source": [
    "df.loc[df['compound_UPRO'] < df['compound_SPX']].tail(1)['date']"
   ]
  },
  {
   "cell_type": "code",
   "execution_count": 4,
   "metadata": {},
   "outputs": [
    {
     "data": {
      "text/plain": [
       "count                   15564\n",
       "unique                    407\n",
       "top       2018-12-28 00:00:00\n",
       "freq                      926\n",
       "first     1957-10-22 00:00:00\n",
       "last      2018-12-28 00:00:00\n",
       "Name: sunshine_date, dtype: object"
      ]
     },
     "execution_count": 4,
     "metadata": {},
     "output_type": "execute_result"
    }
   ],
   "source": [
    "size = len(df.index)\n",
    "UPRO_ndarray = np.zeros([size, size])\n",
    "UPRO_ndarray[:, 0] = df['compound_UPRO'].values\n",
    "row = 2\n",
    "column = 1\n",
    "for i in np.arange(size-1):\n",
    "    UPRO_ndarray[row:, column] = UPRO_ndarray[row:, column-1] / UPRO_ndarray[row-1, column-1]\n",
    "    row += 1\n",
    "    column += 1\n",
    "\n",
    "SPX_ndarray = np.zeros([size, size])    \n",
    "SPX_ndarray[:, 0] = df['compound_SPX'].values\n",
    "row = 2\n",
    "column = 1\n",
    "for i in np.arange(size-1):\n",
    "    SPX_ndarray[row:, column] = SPX_ndarray[row:, column-1] / SPX_ndarray[row-1, column-1]\n",
    "    row += 1\n",
    "    column += 1\n",
    "\n",
    "sunshine_date = np.array(['1900-01-01'] * size, dtype=object)\n",
    "dates = df['date'].values\n",
    "column = 0\n",
    "row = size-1\n",
    "for column in np.arange(size):\n",
    "    while (SPX_ndarray[row, column] < UPRO_ndarray[row, column]):\n",
    "        row -= 1\n",
    "    sunshine_date[column] = dates[row]\n",
    "    row = size-1\n",
    "\n",
    "UPRO=pd.DataFrame(UPRO_ndarray)\n",
    "UPRO['date'] = pd.to_datetime(df['date'], infer_datetime_format=True)\n",
    "UPRO['sunshine_date'] = pd.to_datetime(sunshine_date, infer_datetime_format=True)\n",
    "UPRO['time_to_sunshine'] = UPRO['sunshine_date'] - UPRO['date']\n",
    "UPRO['sunshine_date'].describe()"
   ]
  },
  {
   "cell_type": "code",
   "execution_count": 5,
   "metadata": {},
   "outputs": [
    {
     "data": {
      "text/plain": [
       "count                        15564\n",
       "mean     2698 days 14:46:48.943716\n",
       "std      2385 days 16:31:59.882987\n",
       "min                0 days 00:00:00\n",
       "25%              435 days 18:00:00\n",
       "50%             2101 days 00:00:00\n",
       "75%             4831 days 00:00:00\n",
       "max             8039 days 00:00:00\n",
       "Name: time_to_sunshine, dtype: object"
      ]
     },
     "execution_count": 5,
     "metadata": {},
     "output_type": "execute_result"
    }
   ],
   "source": [
    "UPRO['time_to_sunshine'].describe()"
   ]
  },
  {
   "cell_type": "code",
   "execution_count": 6,
   "metadata": {},
   "outputs": [
    {
     "name": "stdout",
     "output_type": "stream",
     "text": [
      "           date sunshine_date time_to_sunshine\n",
      "7544 1987-03-06    2009-03-09        8039 days\n",
      "7546 1987-03-10    2009-03-09        8035 days\n",
      "7548 1987-03-12    2009-03-09        8033 days\n",
      "7551 1987-03-17    2009-03-09        8028 days\n",
      "7552 1987-03-18    2009-03-09        8027 days\n",
      "7553 1987-03-19    2009-03-09        8026 days\n",
      "7554 1987-03-20    2009-03-09        8025 days\n",
      "7555 1987-03-23    2009-03-09        8022 days\n",
      "7556 1987-03-24    2009-03-09        8021 days\n",
      "7557 1987-03-25    2009-03-09        8020 days\n",
      "7558 1987-03-26    2009-03-09        8019 days\n",
      "7559 1987-03-27    2009-03-09        8018 days\n",
      "7561 1987-03-31    2009-03-09        8014 days\n",
      "7562 1987-04-01    2009-03-09        8013 days\n",
      "7563 1987-04-02    2009-03-09        8012 days\n",
      "7564 1987-04-03    2009-03-09        8011 days\n",
      "7565 1987-04-06    2009-03-09        8008 days\n",
      "7566 1987-04-07    2009-03-09        8007 days\n",
      "7567 1987-04-08    2009-03-09        8006 days\n",
      "7568 1987-04-09    2009-03-09        8005 days\n",
      "7569 1987-04-10    2009-03-09        8004 days\n"
     ]
    }
   ],
   "source": [
    "print (UPRO.loc[UPRO['time_to_sunshine'] > pd.Timedelta('8000 days')][['date', 'sunshine_date', 'time_to_sunshine']])"
   ]
  }
 ],
 "metadata": {
  "kernelspec": {
   "display_name": "Python 3",
   "language": "python",
   "name": "python3"
  },
  "language_info": {
   "codemirror_mode": {
    "name": "ipython",
    "version": 2
   },
   "file_extension": ".py",
   "mimetype": "text/x-python",
   "name": "python",
   "nbconvert_exporter": "python",
   "pygments_lexer": "ipython2",
   "version": "2.7.15"
  }
 },
 "nbformat": 4,
 "nbformat_minor": 2
}
