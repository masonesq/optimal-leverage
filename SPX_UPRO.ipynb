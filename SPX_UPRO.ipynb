{
 "cells": [
  {
   "cell_type": "markdown",
   "metadata": {},
   "source": [
    "This function maps the S&P 500 to the price of UPRO.\n",
    "\n",
    "\n",
    "$$\\mathrm{UPRO}=2.961636082259724\\cdot\\mathrm{SPX}+0.00014390300083251257$$\n",
    "\n",
    "It is based on the daily closing prices of UPRO and the S&P 500 from the date of inception of UPRO through December 27, 2018.  Data is taken from TD Ameritrade and Yahoo.  The two sources disagree on several daily closing prices.  However, the functions given by linear regression are similar."
   ]
  },
  {
   "cell_type": "code",
   "execution_count": 1,
   "metadata": {},
   "outputs": [
    {
     "data": {
      "text/html": [
       "<div>\n",
       "<style scoped>\n",
       "    .dataframe tbody tr th:only-of-type {\n",
       "        vertical-align: middle;\n",
       "    }\n",
       "\n",
       "    .dataframe tbody tr th {\n",
       "        vertical-align: top;\n",
       "    }\n",
       "\n",
       "    .dataframe thead th {\n",
       "        text-align: right;\n",
       "    }\n",
       "</style>\n",
       "<table border=\"1\" class=\"dataframe\">\n",
       "  <thead>\n",
       "    <tr style=\"text-align: right;\">\n",
       "      <th></th>\n",
       "      <th>date</th>\n",
       "      <th>closeAmeritrade</th>\n",
       "      <th>closeYahoo</th>\n",
       "      <th>pctChangeAmeritrade</th>\n",
       "      <th>pctChangeYahoo</th>\n",
       "      <th>pctDeviation</th>\n",
       "    </tr>\n",
       "  </thead>\n",
       "  <tbody>\n",
       "    <tr>\n",
       "      <th>0</th>\n",
       "      <td>2009-06-25</td>\n",
       "      <td>2.411111</td>\n",
       "      <td>2.411111</td>\n",
       "      <td>NaN</td>\n",
       "      <td>NaN</td>\n",
       "      <td>0.000000e+00</td>\n",
       "    </tr>\n",
       "    <tr>\n",
       "      <th>1</th>\n",
       "      <td>2009-06-26</td>\n",
       "      <td>2.398611</td>\n",
       "      <td>2.398611</td>\n",
       "      <td>-0.005184</td>\n",
       "      <td>-0.005184</td>\n",
       "      <td>-1.851443e-16</td>\n",
       "    </tr>\n",
       "    <tr>\n",
       "      <th>2</th>\n",
       "      <td>2009-06-29</td>\n",
       "      <td>2.466667</td>\n",
       "      <td>2.466667</td>\n",
       "      <td>0.028373</td>\n",
       "      <td>0.028373</td>\n",
       "      <td>1.800361e-16</td>\n",
       "    </tr>\n",
       "    <tr>\n",
       "      <th>3</th>\n",
       "      <td>2009-06-30</td>\n",
       "      <td>2.407778</td>\n",
       "      <td>2.407778</td>\n",
       "      <td>-0.023874</td>\n",
       "      <td>-0.023874</td>\n",
       "      <td>0.000000e+00</td>\n",
       "    </tr>\n",
       "    <tr>\n",
       "      <th>4</th>\n",
       "      <td>2009-07-01</td>\n",
       "      <td>2.433611</td>\n",
       "      <td>2.433611</td>\n",
       "      <td>0.010729</td>\n",
       "      <td>0.010729</td>\n",
       "      <td>0.000000e+00</td>\n",
       "    </tr>\n",
       "  </tbody>\n",
       "</table>\n",
       "</div>"
      ],
      "text/plain": [
       "         date  closeAmeritrade  closeYahoo  pctChangeAmeritrade  \\\n",
       "0  2009-06-25         2.411111    2.411111                  NaN   \n",
       "1  2009-06-26         2.398611    2.398611            -0.005184   \n",
       "2  2009-06-29         2.466667    2.466667             0.028373   \n",
       "3  2009-06-30         2.407778    2.407778            -0.023874   \n",
       "4  2009-07-01         2.433611    2.433611             0.010729   \n",
       "\n",
       "   pctChangeYahoo  pctDeviation  \n",
       "0             NaN  0.000000e+00  \n",
       "1       -0.005184 -1.851443e-16  \n",
       "2        0.028373  1.800361e-16  \n",
       "3       -0.023874  0.000000e+00  \n",
       "4        0.010729  0.000000e+00  "
      ]
     },
     "execution_count": 1,
     "metadata": {},
     "output_type": "execute_result"
    }
   ],
   "source": [
    "import requests\n",
    "import datetime\n",
    "import pandas as pd\n",
    "import numpy as np\n",
    "import matplotlib.pyplot as plt\n",
    "from sklearn import linear_model\n",
    "\n",
    "params = (\n",
    "    ('apikey', 'REDACTION@AMER.OAUTHAP'),\n",
    "    ('periodType', 'month'),\n",
    "    ('period', '1'),\n",
    "    ('frequencyType', 'daily'),\n",
    "    ('startDate', '1245902400000'),\n",
    ")\n",
    "\n",
    "response = requests.get('https://api.tdameritrade.com/v1/marketdata/UPRO/pricehistory', params=params)\n",
    "UPROdf = pd.DataFrame.from_dict(response.json()['candles'])\n",
    "UPROdf.datetime = (UPROdf.datetime / 1000.0).apply(lambda x: datetime.datetime.fromtimestamp(x).strftime('%Y-%m-%d'))\n",
    "UPROdf.drop(['high', 'low', 'open', 'volume'], axis=1, inplace=True)\n",
    "UPROdf.rename(columns={'close':'closeAmeritrade', 'datetime':'date'}, inplace=True)\n",
    "UPROdf['pctChangeAmeritrade'] = UPROdf.closeAmeritrade.pct_change()\n",
    "UPROdfYahoo = pd.read_csv(\"/home/matt/Downloads/UPRO (1).csv\")\n",
    "UPROdf['closeYahoo'] = UPROdfYahoo.Close\n",
    "UPROdf['pctChangeYahoo'] = UPROdf.closeYahoo.pct_change()\n",
    "UPROdf['pctDeviation'] = (UPROdf.closeAmeritrade - UPROdf.closeYahoo) / UPROdf.closeAmeritrade\n",
    "UPROdf = UPROdf[['date', 'closeAmeritrade', 'closeYahoo', 'pctChangeAmeritrade', 'pctChangeYahoo', 'pctDeviation']]\n",
    "UPROdf.head()"
   ]
  },
  {
   "cell_type": "code",
   "execution_count": 2,
   "metadata": {},
   "outputs": [
    {
     "data": {
      "text/html": [
       "<div>\n",
       "<style scoped>\n",
       "    .dataframe tbody tr th:only-of-type {\n",
       "        vertical-align: middle;\n",
       "    }\n",
       "\n",
       "    .dataframe tbody tr th {\n",
       "        vertical-align: top;\n",
       "    }\n",
       "\n",
       "    .dataframe thead th {\n",
       "        text-align: right;\n",
       "    }\n",
       "</style>\n",
       "<table border=\"1\" class=\"dataframe\">\n",
       "  <thead>\n",
       "    <tr style=\"text-align: right;\">\n",
       "      <th></th>\n",
       "      <th>date</th>\n",
       "      <th>closeAmeritrade</th>\n",
       "      <th>closeYahoo</th>\n",
       "      <th>pctChangeAmeritrade</th>\n",
       "      <th>pctChangeYahoo</th>\n",
       "      <th>pctDeviation</th>\n",
       "    </tr>\n",
       "  </thead>\n",
       "  <tbody>\n",
       "    <tr>\n",
       "      <th>2389</th>\n",
       "      <td>2018-12-20</td>\n",
       "      <td>33.59</td>\n",
       "      <td>33.590000</td>\n",
       "      <td>-0.048981</td>\n",
       "      <td>-0.048981</td>\n",
       "      <td>0.000000e+00</td>\n",
       "    </tr>\n",
       "    <tr>\n",
       "      <th>2390</th>\n",
       "      <td>2018-12-21</td>\n",
       "      <td>31.48</td>\n",
       "      <td>31.480000</td>\n",
       "      <td>-0.062816</td>\n",
       "      <td>-0.062816</td>\n",
       "      <td>0.000000e+00</td>\n",
       "    </tr>\n",
       "    <tr>\n",
       "      <th>2391</th>\n",
       "      <td>2018-12-24</td>\n",
       "      <td>29.00</td>\n",
       "      <td>29.000000</td>\n",
       "      <td>-0.078780</td>\n",
       "      <td>-0.078780</td>\n",
       "      <td>0.000000e+00</td>\n",
       "    </tr>\n",
       "    <tr>\n",
       "      <th>2392</th>\n",
       "      <td>2018-12-26</td>\n",
       "      <td>33.15</td>\n",
       "      <td>33.150002</td>\n",
       "      <td>0.143103</td>\n",
       "      <td>0.143104</td>\n",
       "      <td>-6.033183e-08</td>\n",
       "    </tr>\n",
       "    <tr>\n",
       "      <th>2393</th>\n",
       "      <td>2018-12-27</td>\n",
       "      <td>34.03</td>\n",
       "      <td>34.029999</td>\n",
       "      <td>0.026546</td>\n",
       "      <td>0.026546</td>\n",
       "      <td>2.938584e-08</td>\n",
       "    </tr>\n",
       "  </tbody>\n",
       "</table>\n",
       "</div>"
      ],
      "text/plain": [
       "            date  closeAmeritrade  closeYahoo  pctChangeAmeritrade  \\\n",
       "2389  2018-12-20            33.59   33.590000            -0.048981   \n",
       "2390  2018-12-21            31.48   31.480000            -0.062816   \n",
       "2391  2018-12-24            29.00   29.000000            -0.078780   \n",
       "2392  2018-12-26            33.15   33.150002             0.143103   \n",
       "2393  2018-12-27            34.03   34.029999             0.026546   \n",
       "\n",
       "      pctChangeYahoo  pctDeviation  \n",
       "2389       -0.048981  0.000000e+00  \n",
       "2390       -0.062816  0.000000e+00  \n",
       "2391       -0.078780  0.000000e+00  \n",
       "2392        0.143104 -6.033183e-08  \n",
       "2393        0.026546  2.938584e-08  "
      ]
     },
     "execution_count": 2,
     "metadata": {},
     "output_type": "execute_result"
    }
   ],
   "source": [
    "UPROdf.tail()"
   ]
  },
  {
   "cell_type": "markdown",
   "metadata": {},
   "source": [
    "The following summarizes the dates on which the closing prices for UPRO reported by TD Ameritrade and Yahoo differ."
   ]
  },
  {
   "cell_type": "code",
   "execution_count": 3,
   "metadata": {},
   "outputs": [
    {
     "data": {
      "text/plain": [
       "count    2.700000e+01\n",
       "mean     3.917327e-04\n",
       "std      1.297089e-03\n",
       "min     -2.043829e-03\n",
       "25%     -5.830443e-08\n",
       "50%      5.236973e-08\n",
       "75%      7.687328e-04\n",
       "max      4.471058e-03\n",
       "Name: pctDeviation, dtype: float64"
      ]
     },
     "execution_count": 3,
     "metadata": {},
     "output_type": "execute_result"
    }
   ],
   "source": [
    "UPROdf.loc[UPROdf.closeAmeritrade.round(2) != UPROdf.closeYahoo.round(2)].pctDeviation.describe()"
   ]
  },
  {
   "cell_type": "code",
   "execution_count": 4,
   "metadata": {},
   "outputs": [
    {
     "data": {
      "text/html": [
       "<div>\n",
       "<style scoped>\n",
       "    .dataframe tbody tr th:only-of-type {\n",
       "        vertical-align: middle;\n",
       "    }\n",
       "\n",
       "    .dataframe tbody tr th {\n",
       "        vertical-align: top;\n",
       "    }\n",
       "\n",
       "    .dataframe thead th {\n",
       "        text-align: right;\n",
       "    }\n",
       "</style>\n",
       "<table border=\"1\" class=\"dataframe\">\n",
       "  <thead>\n",
       "    <tr style=\"text-align: right;\">\n",
       "      <th></th>\n",
       "      <th>date</th>\n",
       "      <th>closeAmeritrade</th>\n",
       "      <th>closeYahoo</th>\n",
       "      <th>pctChangeAmeritrade</th>\n",
       "      <th>pctChangeYahoo</th>\n",
       "      <th>pctDeviation</th>\n",
       "    </tr>\n",
       "  </thead>\n",
       "  <tbody>\n",
       "    <tr>\n",
       "      <th>0</th>\n",
       "      <td>1987-04-03</td>\n",
       "      <td>300.41000</td>\n",
       "      <td>300.410004</td>\n",
       "      <td>NaN</td>\n",
       "      <td>NaN</td>\n",
       "      <td>-1.331514e-08</td>\n",
       "    </tr>\n",
       "    <tr>\n",
       "      <th>1</th>\n",
       "      <td>1987-04-06</td>\n",
       "      <td>301.95001</td>\n",
       "      <td>301.950012</td>\n",
       "      <td>0.005126</td>\n",
       "      <td>0.005126</td>\n",
       "      <td>-6.623613e-09</td>\n",
       "    </tr>\n",
       "    <tr>\n",
       "      <th>2</th>\n",
       "      <td>1987-04-07</td>\n",
       "      <td>296.69000</td>\n",
       "      <td>296.690002</td>\n",
       "      <td>-0.017420</td>\n",
       "      <td>-0.017420</td>\n",
       "      <td>-6.741043e-09</td>\n",
       "    </tr>\n",
       "    <tr>\n",
       "      <th>3</th>\n",
       "      <td>1987-04-08</td>\n",
       "      <td>297.26001</td>\n",
       "      <td>297.260010</td>\n",
       "      <td>0.001921</td>\n",
       "      <td>0.001921</td>\n",
       "      <td>0.000000e+00</td>\n",
       "    </tr>\n",
       "    <tr>\n",
       "      <th>4</th>\n",
       "      <td>1987-04-09</td>\n",
       "      <td>292.85999</td>\n",
       "      <td>292.859985</td>\n",
       "      <td>-0.014802</td>\n",
       "      <td>-0.014802</td>\n",
       "      <td>1.707300e-08</td>\n",
       "    </tr>\n",
       "  </tbody>\n",
       "</table>\n",
       "</div>"
      ],
      "text/plain": [
       "         date  closeAmeritrade  closeYahoo  pctChangeAmeritrade  \\\n",
       "0  1987-04-03        300.41000  300.410004                  NaN   \n",
       "1  1987-04-06        301.95001  301.950012             0.005126   \n",
       "2  1987-04-07        296.69000  296.690002            -0.017420   \n",
       "3  1987-04-08        297.26001  297.260010             0.001921   \n",
       "4  1987-04-09        292.85999  292.859985            -0.014802   \n",
       "\n",
       "   pctChangeYahoo  pctDeviation  \n",
       "0             NaN -1.331514e-08  \n",
       "1        0.005126 -6.623613e-09  \n",
       "2       -0.017420 -6.741043e-09  \n",
       "3        0.001921  0.000000e+00  \n",
       "4       -0.014802  1.707300e-08  "
      ]
     },
     "execution_count": 4,
     "metadata": {},
     "output_type": "execute_result"
    }
   ],
   "source": [
    "params = (\n",
    "    ('apikey', 'REDACTION@AMER.OAUTHAP'),\n",
    "    ('periodType', 'month'),\n",
    "    ('period', '1'),\n",
    "    ('frequencyType', 'daily'),\n",
    "    ('startDate', '-404856000000'),\n",
    ")\n",
    "\n",
    "response = requests.get('https://api.tdameritrade.com/v1/marketdata/SPX/pricehistory', params=params)\n",
    "SPXdf = pd.DataFrame.from_dict(response.json()['candles'])\n",
    "SPXdf.datetime = (SPXdf.datetime / 1000.0).apply(lambda x: datetime.datetime.fromtimestamp(x).strftime('%Y-%m-%d'))\n",
    "SPXdf.drop(['high', 'low', 'open', 'volume'], axis=1, inplace=True)\n",
    "SPXdf.rename(columns={'close':'closeAmeritrade', 'datetime':'date'}, inplace=True)\n",
    "SPXdf['pctChangeAmeritrade'] = SPXdf.closeAmeritrade.pct_change()\n",
    "SPXdfYahoo = pd.read_csv(\"/home/matt/Downloads/^GSPC (2).csv\")\n",
    "SPXdf['closeYahoo'] = SPXdfYahoo.Close\n",
    "SPXdf['pctChangeYahoo'] = SPXdf.closeYahoo.pct_change()\n",
    "SPXdf['pctDeviation'] = (SPXdf.closeAmeritrade - SPXdf.closeYahoo) / SPXdf.closeAmeritrade\n",
    "SPXdf = SPXdf[['date', 'closeAmeritrade', 'closeYahoo', 'pctChangeAmeritrade', 'pctChangeYahoo', 'pctDeviation']]\n",
    "SPXdf.head()"
   ]
  },
  {
   "cell_type": "code",
   "execution_count": 5,
   "metadata": {},
   "outputs": [
    {
     "data": {
      "text/html": [
       "<div>\n",
       "<style scoped>\n",
       "    .dataframe tbody tr th:only-of-type {\n",
       "        vertical-align: middle;\n",
       "    }\n",
       "\n",
       "    .dataframe tbody tr th {\n",
       "        vertical-align: top;\n",
       "    }\n",
       "\n",
       "    .dataframe thead th {\n",
       "        text-align: right;\n",
       "    }\n",
       "</style>\n",
       "<table border=\"1\" class=\"dataframe\">\n",
       "  <thead>\n",
       "    <tr style=\"text-align: right;\">\n",
       "      <th></th>\n",
       "      <th>date</th>\n",
       "      <th>closeAmeritrade</th>\n",
       "      <th>closeYahoo</th>\n",
       "      <th>pctChangeAmeritrade</th>\n",
       "      <th>pctChangeYahoo</th>\n",
       "      <th>pctDeviation</th>\n",
       "    </tr>\n",
       "  </thead>\n",
       "  <tbody>\n",
       "    <tr>\n",
       "      <th>7994</th>\n",
       "      <td>2018-12-20</td>\n",
       "      <td>2467.42</td>\n",
       "      <td>2467.419922</td>\n",
       "      <td>-0.015772</td>\n",
       "      <td>-0.015772</td>\n",
       "      <td>3.161197e-08</td>\n",
       "    </tr>\n",
       "    <tr>\n",
       "      <th>7995</th>\n",
       "      <td>2018-12-21</td>\n",
       "      <td>2416.62</td>\n",
       "      <td>2416.620117</td>\n",
       "      <td>-0.020588</td>\n",
       "      <td>-0.020588</td>\n",
       "      <td>-4.841473e-08</td>\n",
       "    </tr>\n",
       "    <tr>\n",
       "      <th>7996</th>\n",
       "      <td>2018-12-24</td>\n",
       "      <td>2351.10</td>\n",
       "      <td>2351.100098</td>\n",
       "      <td>-0.027112</td>\n",
       "      <td>-0.027112</td>\n",
       "      <td>-4.168262e-08</td>\n",
       "    </tr>\n",
       "    <tr>\n",
       "      <th>7997</th>\n",
       "      <td>2018-12-26</td>\n",
       "      <td>2467.70</td>\n",
       "      <td>2467.699951</td>\n",
       "      <td>0.049594</td>\n",
       "      <td>0.049594</td>\n",
       "      <td>1.985655e-08</td>\n",
       "    </tr>\n",
       "    <tr>\n",
       "      <th>7998</th>\n",
       "      <td>2018-12-27</td>\n",
       "      <td>2488.83</td>\n",
       "      <td>2488.830078</td>\n",
       "      <td>0.008563</td>\n",
       "      <td>0.008563</td>\n",
       "      <td>-3.134003e-08</td>\n",
       "    </tr>\n",
       "  </tbody>\n",
       "</table>\n",
       "</div>"
      ],
      "text/plain": [
       "            date  closeAmeritrade   closeYahoo  pctChangeAmeritrade  \\\n",
       "7994  2018-12-20          2467.42  2467.419922            -0.015772   \n",
       "7995  2018-12-21          2416.62  2416.620117            -0.020588   \n",
       "7996  2018-12-24          2351.10  2351.100098            -0.027112   \n",
       "7997  2018-12-26          2467.70  2467.699951             0.049594   \n",
       "7998  2018-12-27          2488.83  2488.830078             0.008563   \n",
       "\n",
       "      pctChangeYahoo  pctDeviation  \n",
       "7994       -0.015772  3.161197e-08  \n",
       "7995       -0.020588 -4.841473e-08  \n",
       "7996       -0.027112 -4.168262e-08  \n",
       "7997        0.049594  1.985655e-08  \n",
       "7998        0.008563 -3.134003e-08  "
      ]
     },
     "execution_count": 5,
     "metadata": {},
     "output_type": "execute_result"
    }
   ],
   "source": [
    "SPXdf.tail()"
   ]
  },
  {
   "cell_type": "markdown",
   "metadata": {},
   "source": [
    "The following summarizes the dates on which the closing prices for SPX reported by TD Ameritrade and Yahoo differ."
   ]
  },
  {
   "cell_type": "code",
   "execution_count": 6,
   "metadata": {},
   "outputs": [
    {
     "data": {
      "text/plain": [
       "count    296.000000\n",
       "mean      -0.000031\n",
       "std        0.000303\n",
       "min       -0.004481\n",
       "25%       -0.000025\n",
       "50%       -0.000009\n",
       "75%        0.000018\n",
       "max        0.000685\n",
       "Name: pctDeviation, dtype: float64"
      ]
     },
     "execution_count": 6,
     "metadata": {},
     "output_type": "execute_result"
    }
   ],
   "source": [
    "SPXdf.loc[SPXdf.closeAmeritrade.round(2) != SPXdf.closeYahoo.round(2)].pctDeviation.describe()"
   ]
  },
  {
   "cell_type": "code",
   "execution_count": 7,
   "metadata": {},
   "outputs": [
    {
     "name": "stdout",
     "output_type": "stream",
     "text": [
      "Data from TD Ameritrade\n",
      "coefficient = 2.9615538789741382\n",
      "intercept = 0.0001438892750095398\n",
      "R^2 = 0.9942690682103693\n"
     ]
    },
    {
     "data": {
      "image/png": "[encoded data removed]",
      "text/plain": [
       "<Figure size 432x288 with 1 Axes>"
      ]
     },
     "metadata": {
      "needs_background": "light"
     },
     "output_type": "display_data"
    }
   ],
   "source": [
    "X = SPXdf.pctChangeAmeritrade.iloc[SPXdf.loc[SPXdf.date == '2009-06-26'].index.values.astype(int)[0]:].values.reshape(-1, 1)\n",
    "y = UPROdf.pctChangeAmeritrade.iloc[1:].values\n",
    "model = linear_model.LinearRegression().fit(X, y)\n",
    "plt.scatter(X, y, color='black')\n",
    "plt.plot(X, model.predict(X), color='blue', linewidth=3)\n",
    "plt.xlabel(\"SPX % change\")\n",
    "plt.ylabel(\"UPRO % change\")\n",
    "plt.text(-.06, .1, '0.1=10%')\n",
    "print (\"Data from TD Ameritrade\\ncoefficient = \" + str(model.coef_[0]) + \"\\nintercept = \" + str(model.intercept_) + \"\\nR^2 = \" + str(model.score(X, y)))\n",
    "plt.show()"
   ]
  },
  {
   "cell_type": "code",
   "execution_count": 8,
   "metadata": {},
   "outputs": [
    {
     "name": "stdout",
     "output_type": "stream",
     "text": [
      "Data from Yahoo\n",
      "coefficient = 2.961636082259724\n",
      "intercept = 0.00014390300083251257\n",
      "R^2 = 0.9942373152330283\n"
     ]
    },
    {
     "data": {
      "image/png": "[encoded data removed]",
      "text/plain": [
       "<Figure size 432x288 with 1 Axes>"
      ]
     },
     "metadata": {
      "needs_background": "light"
     },
     "output_type": "display_data"
    }
   ],
   "source": [
    "X = SPXdf.pctChangeYahoo.iloc[SPXdf.loc[SPXdf.date == '2009-06-26'].index.values.astype(int)[0]:].values.reshape(-1, 1)\n",
    "y = UPROdf.pctChangeYahoo.iloc[1:].values\n",
    "model = linear_model.LinearRegression().fit(X, y)\n",
    "plt.scatter(X, y, color='black')\n",
    "plt.plot(X, model.predict(X), color='blue', linewidth=3)\n",
    "plt.xlabel(\"SPX % change\")\n",
    "plt.ylabel(\"UPRO % change\")\n",
    "plt.text(-.06, .1, '0.1=10%')\n",
    "print (\"Data from Yahoo\\ncoefficient = \" + str(model.coef_[0]) + \"\\nintercept = \" + str(model.intercept_) + \"\\nR^2 = \" + str(model.score(X, y)))\n",
    "plt.show()"
   ]
  },
  {
   "cell_type": "markdown",
   "metadata": {},
   "source": [
    "We will use the function obtained from the Yahoo data because Yahoo provides data earlier than March 4, 1957. "
   ]
  }
 ],
 "metadata": {
  "kernelspec": {
   "display_name": "Python 3",
   "language": "python",
   "name": "python3"
  },
  "language_info": {
   "codemirror_mode": {
    "name": "ipython",
    "version": 2
   },
   "file_extension": ".py",
   "mimetype": "text/x-python",
   "name": "python",
   "nbconvert_exporter": "python",
   "pygments_lexer": "ipython2",
   "version": "2.7.15"
  }
 },
 "nbformat": 4,
 "nbformat_minor": 2
}
